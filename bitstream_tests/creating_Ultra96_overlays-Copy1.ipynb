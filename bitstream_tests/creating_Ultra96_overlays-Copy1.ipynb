{
 "cells": [
  {
   "cell_type": "markdown",
   "id": "c8682abb",
   "metadata": {},
   "source": [
    "# Template available to start your own Vivado PL hardware designs"
   ]
  },
  {
   "cell_type": "markdown",
   "id": "63a33cb1",
   "metadata": {},
   "source": [
    "Included in the release is an Overlay named sensors96b. \n",
    "The Vivado design as well as supporting makefiles can be found here:\n",
    "https://github.com/Avnet/Ultra96-PYNQ/tree/master/Ultra96/sensors96b"
   ]
  },
  {
   "cell_type": "code",
   "execution_count": 1,
   "id": "2c0b6066",
   "metadata": {},
   "outputs": [
    {
     "data": {
      "application/javascript": [
       "\n",
       "try {\n",
       "require(['notebook/js/codecell'], function(codecell) {\n",
       "  codecell.CodeCell.options_default.highlight_modes[\n",
       "      'magic_text/x-csrc'] = {'reg':[/^%%microblaze/]};\n",
       "  Jupyter.notebook.events.one('kernel_ready.Kernel', function(){\n",
       "      Jupyter.notebook.get_cells().map(function(cell){\n",
       "          if (cell.cell_type == 'code'){ cell.auto_highlight(); } }) ;\n",
       "  });\n",
       "});\n",
       "} catch (e) {};\n"
      ]
     },
     "metadata": {},
     "output_type": "display_data"
    },
    {
     "data": {
      "application/javascript": [
       "\n",
       "try {\n",
       "require(['notebook/js/codecell'], function(codecell) {\n",
       "  codecell.CodeCell.options_default.highlight_modes[\n",
       "      'magic_text/x-csrc'] = {'reg':[/^%%pybind11/]};\n",
       "  Jupyter.notebook.events.one('kernel_ready.Kernel', function(){\n",
       "      Jupyter.notebook.get_cells().map(function(cell){\n",
       "          if (cell.cell_type == 'code'){ cell.auto_highlight(); } }) ;\n",
       "  });\n",
       "});\n",
       "} catch (e) {};\n"
      ]
     },
     "metadata": {},
     "output_type": "display_data"
    }
   ],
   "source": [
    "# Example of loading the built-in Overlay\n",
    "from pynq import PL\n",
    "from pynq import Overlay\n",
    "#ol = Overlay('./sensors96b_custom_3.bit')\n",
    "ol = Overlay('./gpiok_blink.bit')"
   ]
  },
  {
   "cell_type": "code",
   "execution_count": 2,
   "id": "297ac5cc",
   "metadata": {},
   "outputs": [],
   "source": [
    "# The Overlay is very simple and contains 2 UARTs in the PL design\n",
    "ol?"
   ]
  },
  {
   "cell_type": "code",
   "execution_count": 49,
   "id": "83f74dc5",
   "metadata": {},
   "outputs": [
    {
     "name": "stdout",
     "output_type": "stream",
     "text": [
      "Ultra96-V2 hd_emio_gpio0 numbers is 412\n"
     ]
    }
   ],
   "source": [
    "from pynq import GPIO\n",
    "import time\n",
    "\n",
    "hd_emio_gpio0_n = GPIO.get_gpio_pin(gpio_user_index=0)\n",
    "print(\"Ultra96-V2 hd_emio_gpio0 numbers is {}\".format(hd_emio_gpio0_n))\n",
    "hd_emio_gpio0 = GPIO(hd_emio_gpio0_n, 'out')\n",
    "hd_emio_gpio0.write(1)\n",
    "\n",
    "#for i in range(10):\n",
    "#    hd_emio_gpio0.write(1)\n",
    "#    time.sleep(1)\n",
    "#    hd_emio_gpio0.write(0)\n",
    "#    time.sleep(1)\n",
    "#hd_emio_gpio0.release()"
   ]
  },
  {
   "cell_type": "code",
   "execution_count": 4,
   "id": "d4f6b956",
   "metadata": {},
   "outputs": [],
   "source": [
    "hd_emio_gpio0.write(1)"
   ]
  },
  {
   "cell_type": "code",
   "execution_count": 5,
   "id": "bff81ad0",
   "metadata": {},
   "outputs": [],
   "source": [
    "hd_emio_gpio1 = GPIO(hd_emio_gpio0_n+1, 'out')"
   ]
  },
  {
   "cell_type": "code",
   "execution_count": 6,
   "id": "f59422e6",
   "metadata": {},
   "outputs": [],
   "source": [
    "hd_emio_gpio1.write(0)"
   ]
  },
  {
   "cell_type": "markdown",
   "id": "9516263d",
   "metadata": {},
   "source": [
    "# EMIO-GPIO Tests"
   ]
  },
  {
   "cell_type": "code",
   "execution_count": 51,
   "id": "dbf10115",
   "metadata": {},
   "outputs": [
    {
     "data": {
      "text/plain": [
       "334"
      ]
     },
     "execution_count": 51,
     "metadata": {},
     "output_type": "execute_result"
    }
   ],
   "source": [
    "gpio_base = GPIO.get_gpio_base()\n",
    "gpio_base"
   ]
  },
  {
   "cell_type": "code",
   "execution_count": 24,
   "id": "c5223a96",
   "metadata": {},
   "outputs": [
    {
     "name": "stdout",
     "output_type": "stream",
     "text": [
      "Ultra96-V2 hd_emio_gpio0 numbers is 412\n"
     ]
    }
   ],
   "source": [
    "from pynq import GPIO\n",
    "from pynq import Overlay\n",
    "import time\n",
    "emio_gpio_design = Overlay(\"./gpiok_blink.bit\")\n",
    "hd_emio_gpio0_n = GPIO.get_gpio_pin(gpio_user_index= 0)\n",
    "print(\"Ultra96-V2 hd_emio_gpio0 numbers is {}\".format(hd_emio_gpio0_n))\n",
    "\n",
    "\n",
    "hd_emio_gpio = []\n",
    "\n",
    "for i in range(12):\n",
    "    hd_emio_gpio.append(GPIO(hd_emio_gpio0_n+i, 'out'))"
   ]
  },
  {
   "cell_type": "code",
   "execution_count": 25,
   "id": "e40c5a6f",
   "metadata": {},
   "outputs": [],
   "source": [
    "for gpio in hd_emio_gpio:\n",
    "    gpio.write(1) "
   ]
  },
  {
   "cell_type": "code",
   "execution_count": 26,
   "id": "ca30da90",
   "metadata": {},
   "outputs": [],
   "source": [
    "for gpio in hd_emio_gpio:\n",
    "    gpio.write(0)"
   ]
  },
  {
   "cell_type": "code",
   "execution_count": 36,
   "id": "53c34fe3",
   "metadata": {},
   "outputs": [],
   "source": [
    "for i in range(10):\n",
    "    for gpio in hd_emio_gpio: gpio.write(1) \n",
    "    time.sleep(1)\n",
    "    for gpio in hd_emio_gpio: gpio.write(0) \n",
    "    time.sleep(1)"
   ]
  },
  {
   "cell_type": "code",
   "execution_count": 47,
   "id": "6afb78dd",
   "metadata": {},
   "outputs": [
    {
     "name": "stdout",
     "output_type": "stream",
     "text": [
      "index: 0\n"
     ]
    },
    {
     "ename": "KeyboardInterrupt",
     "evalue": "",
     "output_type": "error",
     "traceback": [
      "\u001b[0;31m---------------------------------------------------------------------------\u001b[0m",
      "\u001b[0;31mKeyboardInterrupt\u001b[0m                         Traceback (most recent call last)",
      "Input \u001b[0;32mIn [47]\u001b[0m, in \u001b[0;36m<cell line: 12>\u001b[0;34m()\u001b[0m\n\u001b[1;32m     13\u001b[0m gpio \u001b[38;5;241m=\u001b[39m hd_emio_gpio[i]\n\u001b[1;32m     14\u001b[0m \u001b[38;5;28mprint\u001b[39m(\u001b[38;5;124mf\u001b[39m\u001b[38;5;124m\"\u001b[39m\u001b[38;5;124mindex: \u001b[39m\u001b[38;5;132;01m{\u001b[39;00mi\u001b[38;5;132;01m}\u001b[39;00m\u001b[38;5;124m\"\u001b[39m)\n\u001b[0;32m---> 15\u001b[0m \u001b[43mblink\u001b[49m\u001b[43m(\u001b[49m\u001b[43mgpio\u001b[49m\u001b[43m)\u001b[49m\n",
      "Input \u001b[0;32mIn [47]\u001b[0m, in \u001b[0;36mblink\u001b[0;34m(gpio)\u001b[0m\n\u001b[1;32m      8\u001b[0m \u001b[38;5;66;03m#print(\"off\")\u001b[39;00m\n\u001b[1;32m      9\u001b[0m gpio\u001b[38;5;241m.\u001b[39mwrite(\u001b[38;5;241m0\u001b[39m)\n\u001b[0;32m---> 10\u001b[0m \u001b[43mtime\u001b[49m\u001b[38;5;241;43m.\u001b[39;49m\u001b[43msleep\u001b[49m\u001b[43m(\u001b[49m\u001b[38;5;241;43m1\u001b[39;49m\u001b[43m)\u001b[49m\n",
      "\u001b[0;31mKeyboardInterrupt\u001b[0m: "
     ]
    }
   ],
   "source": [
    "# Narrowing down gpio\n",
    "\n",
    "def blink(gpio):\n",
    "    for i in range(10):\n",
    "        #print(\"on\")\n",
    "        gpio.write(1)\n",
    "        time.sleep(1)\n",
    "        #print(\"off\")\n",
    "        gpio.write(0)\n",
    "        time.sleep(1)\n",
    "\n",
    "for i in range(len(hd_emio_gpio)): \n",
    "    gpio = hd_emio_gpio[i]\n",
    "    print(f\"index: {i}\")\n",
    "    blink(gpio)"
   ]
  },
  {
   "cell_type": "code",
   "execution_count": 48,
   "id": "5c71c394",
   "metadata": {
    "scrolled": false
   },
   "outputs": [
    {
     "data": {
      "text/plain": [
       "174"
      ]
     },
     "execution_count": 48,
     "metadata": {},
     "output_type": "execute_result"
    }
   ],
   "source": [
    "GPIO.get_gpio_npins()"
   ]
  },
  {
   "cell_type": "code",
   "execution_count": 36,
   "id": "10c2d303",
   "metadata": {},
   "outputs": [],
   "source": [
    "for gpio in hd_emio_gpio:\n",
    "    gpio.release()"
   ]
  },
  {
   "cell_type": "markdown",
   "id": "b76b5385",
   "metadata": {},
   "source": [
    "# GPIO Input PS"
   ]
  },
  {
   "cell_type": "code",
   "execution_count": 40,
   "id": "6469b034",
   "metadata": {},
   "outputs": [
    {
     "name": "stdout",
     "output_type": "stream",
     "text": [
      "Ultra96-V2 gpio_base is 334\n",
      "Ultra96-V2 gpio_base_path is /sys/class/gpio/gpiochip334\n",
      "Ultra96-V2 gpio_npins is 174\n"
     ]
    }
   ],
   "source": [
    "from pynq import GPIO\n",
    "gpio_base = GPIO.get_gpio_base()\n",
    "print(\"Ultra96-V2 gpio_base is {}\".format(gpio_base))\n",
    "gpio_base_path = GPIO.get_gpio_base_path()\n",
    "print(\"Ultra96-V2 gpio_base_path is {}\".format(gpio_base_path))\n",
    "gpio_npins = GPIO.get_gpio_npins()\n",
    "print(\"Ultra96-V2 gpio_npins is {}\".format(gpio_npins))\n",
    "# led1 = GPIO(gpio_base + 19, 'out') # Will say resource busy\n",
    "gpio0 = GPIO(gpio_base + 36, 'in')"
   ]
  },
  {
   "cell_type": "code",
   "execution_count": 49,
   "id": "8a835359",
   "metadata": {},
   "outputs": [
    {
     "name": "stdout",
     "output_type": "stream",
     "text": [
      "1\n"
     ]
    }
   ],
   "source": [
    "print(gpio0.read())"
   ]
  },
  {
   "cell_type": "code",
   "execution_count": null,
   "id": "f643bf18",
   "metadata": {},
   "outputs": [],
   "source": [
    "gpio0.release()"
   ]
  },
  {
   "cell_type": "markdown",
   "id": "db20a555",
   "metadata": {},
   "source": [
    "# ps_pl_interface"
   ]
  },
  {
   "cell_type": "code",
   "execution_count": 88,
   "id": "9652b24e",
   "metadata": {},
   "outputs": [],
   "source": [
    "# Example of loading the built-in Overlay\n",
    "from pynq import PL\n",
    "from pynq import Overlay\n",
    "from pynq import GPIO\n",
    "#ol = Overlay('./sensors96b_custom_3.bit')\n",
    "ol = Overlay('./ps_pl_interface.bit')"
   ]
  },
  {
   "cell_type": "code",
   "execution_count": 89,
   "id": "bf40065c",
   "metadata": {},
   "outputs": [],
   "source": [
    "# The Overlay is very simple and contains 2 UARTs in the PL design\n",
    "ol?"
   ]
  },
  {
   "cell_type": "code",
   "execution_count": 92,
   "id": "dac6ed28",
   "metadata": {},
   "outputs": [
    {
     "name": "stdout",
     "output_type": "stream",
     "text": [
      "Ultra96-V2 hd_emio_gpio0 numbers is 412\n"
     ]
    }
   ],
   "source": [
    "# EMIO GPIO Test - GPIO 11\n",
    "hd_emio_gpio0_n = GPIO.get_gpio_pin(gpio_user_index= 0)\n",
    "print(\"Ultra96-V2 hd_emio_gpio0 numbers is {}\".format(hd_emio_gpio0_n))\n",
    "hd_emio_gpio = []\n",
    "for i in range(12):\n",
    "    hd_emio_gpio.append(GPIO(hd_emio_gpio0_n+i, 'out'))\n",
    "\n",
    "hd_emio_gpio[1].write(1)"
   ]
  },
  {
   "cell_type": "code",
   "execution_count": 58,
   "id": "1ca19886",
   "metadata": {},
   "outputs": [],
   "source": [
    "hd_emio_gpio[1].write(1)"
   ]
  },
  {
   "cell_type": "code",
   "execution_count": 93,
   "id": "285a3949",
   "metadata": {},
   "outputs": [],
   "source": [
    "hd_emio_gpio[1].write(0)"
   ]
  },
  {
   "cell_type": "code",
   "execution_count": 96,
   "id": "a6e5ed0e",
   "metadata": {},
   "outputs": [],
   "source": [
    "for i in range(10):\n",
    "    for gpio in hd_emio_gpio: gpio.write(1) \n",
    "    time.sleep(1)\n",
    "    for gpio in hd_emio_gpio: gpio.write(0) \n",
    "    time.sleep(1)"
   ]
  },
  {
   "cell_type": "markdown",
   "id": "32b3d79d",
   "metadata": {},
   "source": [
    "### AXI GPIO ############################################"
   ]
  },
  {
   "cell_type": "code",
   "execution_count": 145,
   "id": "7e285d1a",
   "metadata": {},
   "outputs": [],
   "source": [
    "from pynq import Overlay\n",
    "from pynq.lib import AxiGPIO\n",
    "\n",
    "ol = Overlay('./axi_gpio_test.bit')\n",
    "axigpio_ip = ol.ip_dict['axi_gpio_0']\n",
    "axigpio = AxiGPIO(axigpio_ip)"
   ]
  },
  {
   "cell_type": "code",
   "execution_count": 146,
   "id": "7cc9274d",
   "metadata": {},
   "outputs": [],
   "source": [
    "ol?"
   ]
  },
  {
   "cell_type": "code",
   "execution_count": 104,
   "id": "4041e3b0",
   "metadata": {},
   "outputs": [],
   "source": [
    "axigpio[0].write(0x1)"
   ]
  },
  {
   "cell_type": "code",
   "execution_count": 106,
   "id": "656e2793",
   "metadata": {},
   "outputs": [],
   "source": [
    "axigpio[0].write(0x0)"
   ]
  },
  {
   "cell_type": "code",
   "execution_count": 107,
   "id": "feb88f12",
   "metadata": {},
   "outputs": [
    {
     "data": {
      "text/plain": [
       "0"
      ]
     },
     "execution_count": 107,
     "metadata": {},
     "output_type": "execute_result"
    }
   ],
   "source": [
    "axigpio.read()"
   ]
  },
  {
   "cell_type": "markdown",
   "id": "d5560fd4",
   "metadata": {},
   "source": [
    "# AXI GPIO PS-PL Interface"
   ]
  },
  {
   "cell_type": "code",
   "execution_count": 2,
   "id": "36dcb41b",
   "metadata": {},
   "outputs": [],
   "source": [
    "from pynq import Overlay\n",
    "from pynq.lib import AxiGPIO\n",
    "\n",
    "ol = Overlay('./axi_gpio_ps_pl_interface.bit')\n",
    "custom_verilog_interface_ip = ol.ip_dict['axi_gpio_0']\n",
    "custom_verilog = AxiGPIO(custom_verilog_interface_ip)"
   ]
  },
  {
   "cell_type": "code",
   "execution_count": 3,
   "id": "5629b4e8",
   "metadata": {},
   "outputs": [],
   "source": [
    "ol?"
   ]
  },
  {
   "cell_type": "code",
   "execution_count": 5,
   "id": "ead464da",
   "metadata": {},
   "outputs": [
    {
     "name": "stdout",
     "output_type": "stream",
     "text": [
      "0\n",
      "4294967295\n"
     ]
    }
   ],
   "source": [
    "custom_verilog.channel1.write(0xFFFFFFFF, mask=0xFFFFFFFF)\n",
    "print(custom_verilog.channel2.read())\n",
    "\n",
    "custom_verilog.channel1.write(0, mask=0xFFFFFFFF)\n",
    "print(custom_verilog.channel2.read())"
   ]
  },
  {
   "cell_type": "code",
   "execution_count": 6,
   "id": "6e1fcdfd",
   "metadata": {},
   "outputs": [
    {
     "data": {
      "text/plain": [
       "1"
      ]
     },
     "execution_count": 6,
     "metadata": {},
     "output_type": "execute_result"
    }
   ],
   "source": [
    "axigpio = AxiGPIO(ol.ip_dict['axi_gpio_1'])\n",
    "axigpio.channel1[0].write(1)\n",
    "axigpio.channel2.read()"
   ]
  },
  {
   "cell_type": "markdown",
   "id": "02d49b15",
   "metadata": {
    "slideshow": {
     "slide_type": "slide"
    }
   },
   "source": [
    "### If you would like to use this as a starting point for your own custom Vivado PL design:"
   ]
  },
  {
   "cell_type": "markdown",
   "id": "f00c9192",
   "metadata": {},
   "source": [
    "The included Vivado project contains all of the appropriate baseline settings for the PS as well as constraints and some I/O pin labels."
   ]
  },
  {
   "cell_type": "markdown",
   "id": "ecae1b62",
   "metadata": {
    "slideshow": {
     "slide_type": "slide"
    }
   },
   "source": [
    "To rebuild the included design you must install the appropriate version of Vivado (see https://github.com/Avnet/Ultra96-PYNQ/blob/master/README.md) and some Linux build tools such as make.  Installing PetaLinux or Vitis is not required, only Vivado."
   ]
  },
  {
   "cell_type": "markdown",
   "id": "c5985f00",
   "metadata": {},
   "source": [
    "Clone the repo and cd into the appropriate folder:\n",
    "```\n",
    "git clone https://github.com/Avnet/Ultra96-PYNQ\n",
    "cd Ultra96-PYNQ/Ultra96/sensors96b\n",
    "```"
   ]
  },
  {
   "cell_type": "markdown",
   "id": "661c32c2",
   "metadata": {},
   "source": [
    "The design supports both Ultra96 v1 and v2.  The DDR memory is different between the versions so a unique hardware design is required for each.\n",
    "You will need to create a soft symbolic link to choose the version of Ultra96:\n",
    "\n",
    "Ultra96 Version 1:\n",
    "```\n",
    "ln -fs ./sensors96b.tcl.v1 sensors96b.tcl\n",
    "```\n",
    "Ultra96 Version 2:\n",
    "```\n",
    "ln -fs ./sensors96b.tcl.v2 sensors96b.tcl\n",
    "```"
   ]
  },
  {
   "cell_type": "markdown",
   "id": "7001be32",
   "metadata": {},
   "source": [
    "After setting the appropriate link, next simply type and enter:\n",
    "```\n",
    "make\n",
    "```"
   ]
  },
  {
   "cell_type": "markdown",
   "id": "660f0093",
   "metadata": {},
   "source": [
    "After the build finishs a Vivado project will exist, as well as the bitstream, xsa and hwh files."
   ]
  },
  {
   "cell_type": "markdown",
   "id": "a54f919a",
   "metadata": {},
   "source": [
    "#### Additional tips:"
   ]
  },
  {
   "cell_type": "markdown",
   "id": "bd5386b5",
   "metadata": {},
   "source": [
    "You may copy any of these files to your own location to reuse.  Or after looking at the makefile and Vivado project you may understand what is required and construct your own project from scratch."
   ]
  },
  {
   "cell_type": "markdown",
   "id": "3bc9ad74",
   "metadata": {},
   "source": [
    "Another approach would be to open up the newly created design in Vivado and then delete unused portions and insert your own IP.  After the design is finished you could export the Block Design tcl and then replace the appropriate sections of *sensors96b.tcl.v1* or *sensors96b.tcl.v2*."
   ]
  }
 ],
 "metadata": {
  "kernelspec": {
   "display_name": "Python 3 (ipykernel)",
   "language": "python",
   "name": "python3"
  },
  "language_info": {
   "codemirror_mode": {
    "name": "ipython",
    "version": 3
   },
   "file_extension": ".py",
   "mimetype": "text/x-python",
   "name": "python",
   "nbconvert_exporter": "python",
   "pygments_lexer": "ipython3",
   "version": "3.10.4"
  }
 },
 "nbformat": 4,
 "nbformat_minor": 5
}
